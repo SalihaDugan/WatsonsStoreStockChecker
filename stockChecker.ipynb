{
 "cells": [
  {
   "cell_type": "code",
   "execution_count": 1,
   "metadata": {},
   "outputs": [],
   "source": [
    "from selenium import webdriver\n",
    "from selenium.webdriver.edge.service import Service\n",
    "from selenium.webdriver.common.by import By\n",
    "from selenium.webdriver.support.ui import WebDriverWait\n",
    "from selenium.webdriver.support import expected_conditions as EC\n",
    "from selenium.common.exceptions import NoSuchElementException\n",
    "import pandas as pd\n",
    "import time"
   ]
  },
  {
   "cell_type": "code",
   "execution_count": 2,
   "metadata": {},
   "outputs": [],
   "source": [
    "linkList = []\n",
    "\n",
    "driver_path = \"msedgedriver.exe\"\n",
    "service = Service(\"msedgedriver.exe\")\n",
    "driver =  webdriver.Edge(service=service)\n",
    "\n",
    "driver.get(\"https://www.watsons.com.tr/stoklari-bitiriyoruz/c/50021?q=%3A%3AinStockFlag%3AStokta%2BOlmayanlar\")  \n",
    "\n",
    "links = driver.find_elements(By.CSS_SELECTOR, \"#products-content-list a\")\n",
    "\n",
    "hrefs = [link.get_attribute(\"href\") for link in links]\n",
    "\n",
    "for href in hrefs:\n",
    "    linkList.append(href)\n",
    "\n",
    "driver.quit()"
   ]
  },
  {
   "cell_type": "code",
   "execution_count": null,
   "metadata": {},
   "outputs": [],
   "source": [
    "counter = 1\n",
    "while counter<88:\n",
    "\n",
    "    driver.get(\"https://www.watsons.com.tr/stoklari-bitiriyoruz/c/50021?q=%3A%3AinStockFlag%3AStokta%2BOlmayanlar&page=\"+str(counter))  \n",
    "\n",
    "    links = driver.find_elements(By.CSS_SELECTOR, \"#products-content-list a\")\n",
    "\n",
    "    hrefs = [link.get_attribute(\"href\") for link in links]\n",
    "\n",
    "    for href in hrefs:\n",
    "        linkList.append(href)\n",
    "\n",
    "    counter = counter + 1\n",
    "    time.sleep(5)\n",
    "driver.quit()\n"
   ]
  },
  {
   "cell_type": "code",
   "execution_count": 3,
   "metadata": {},
   "outputs": [],
   "source": [
    "# Ürün linki haricinde alınan linkleri temizlemek için bir kontrol yazıyoruz.\n",
    "linkList2 = []\n",
    "for i in range(len(linkList)):\n",
    "    if \"page\" not in linkList[i] and \"stoklari\" not in linkList[i]:\n",
    "        linkList.append(linkList[i])"
   ]
  },
  {
   "cell_type": "code",
   "execution_count": 4,
   "metadata": {},
   "outputs": [],
   "source": [
    "# Birden fazla kaydedilen linkleri temizlemek için pandasın drop_duplicates fonksiyonunu kullanıyoruz.\n",
    "linkData = pd.DataFrame(linkList)\n",
    "droppedData = linkData.drop_duplicates()"
   ]
  },
  {
   "cell_type": "code",
   "execution_count": 5,
   "metadata": {},
   "outputs": [],
   "source": [
    "# DataFrame'in indekslerini sıralı indekslerle değiştiriyoruz.\n",
    "droppedData = droppedData.rename(index={j: i for i, j in enumerate(droppedData.index)})"
   ]
  },
  {
   "cell_type": "code",
   "execution_count": null,
   "metadata": {},
   "outputs": [],
   "source": [
    "stoktakiUrunler = []\n",
    "service = Service(\"msedgedriver.exe\")\n",
    "driver =  webdriver.Edge(service=service)\n",
    "i = 0\n",
    "while i < (len(droppedData)):\n",
    "        \n",
    "    sayfaLink = droppedData[0][i]\n",
    "    driver.get(sayfaLink)\n",
    "    time.sleep(2)\n",
    "\n",
    "    if(i == 0):\n",
    "        driver.find_element(By.ID, \"onetrust-accept-btn-handler\").click()\n",
    "\n",
    "    try:\n",
    "        driver.find_element(By.CLASS_NAME, \"rts-cta\").click()\n",
    "        wait = WebDriverWait(driver, 10)\n",
    "        aramaKutusu = wait.until(EC.visibility_of_element_located((By.ID, \"search\")))\n",
    "        # Görünür hale geldikten sonra metni gir\n",
    "        aramaKutusu.send_keys(\"İstanbul\")\n",
    "\n",
    "        driver.find_element(By.CLASS_NAME, \"store-locator-search-bar__submit\").click()\n",
    "\n",
    "        time.sleep(2)\n",
    "\n",
    "        try:\n",
    "            errorMessage = driver.find_element(By.CLASS_NAME, \"store-locator-search-bar__error\").text\n",
    "\n",
    "        except NoSuchElementException:\n",
    "            print(sayfaLink)\n",
    "            stoktakiUrunler.append(sayfaLink)\n",
    "\n",
    "        time.sleep(5)\n",
    "\n",
    "    except NoSuchElementException:\n",
    "        time.sleep(5)\n",
    "\n",
    "    i = i + 1        \n",
    "\n",
    "driver.quit()"
   ]
  }
 ],
 "metadata": {
  "kernelspec": {
   "display_name": "base",
   "language": "python",
   "name": "python3"
  },
  "language_info": {
   "codemirror_mode": {
    "name": "ipython",
    "version": 3
   },
   "file_extension": ".py",
   "mimetype": "text/x-python",
   "name": "python",
   "nbconvert_exporter": "python",
   "pygments_lexer": "ipython3",
   "version": "3.9.12"
  }
 },
 "nbformat": 4,
 "nbformat_minor": 2
}
